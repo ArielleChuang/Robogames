{
 "cells": [
  {
   "cell_type": "code",
   "execution_count": 23,
   "metadata": {},
   "outputs": [],
   "source": [
    "import Robogame as rg\n",
    "import networkx as nx\n",
    "import time, json\n",
    "import altair as alt\n",
    "import pandas as pd\n",
    "import numpy as np"
   ]
  },
  {
   "cell_type": "markdown",
   "metadata": {},
   "source": [
    "# Simulator\n",
    "This is an example of a simulator. It will create bets for the two players and the just see what happens.\n",
    "\n",
    "I'm assuming two teams... one with the secret \"alice\" and one with \"bob.\" \n",
    "\n",
    "To launch the server for this you can do the following in your server directory:\n",
    "\n",
    "```python api.py -d ./example1 -t1s bob -t2s alice --matchsave bobvalice.json examplematch1```\n",
    "\n",
    "This will launch the example1match from the example1 directory, using the two secrets (alice and bob). The log of the game will get saved to bobvalice.json which might be useful for analysis after the fact."
   ]
  },
  {
   "cell_type": "code",
   "execution_count": 24,
   "metadata": {},
   "outputs": [],
   "source": [
    "# let's read the real match data... this will give us the *real* answers\n",
    "# you can modify this for different example files but remember to also launch the right server version\n",
    "robotdata = pd.read_csv(\"../server/example1/examplematch1.robotdata.csv\")"
   ]
  },
  {
   "cell_type": "code",
   "execution_count": 25,
   "metadata": {},
   "outputs": [],
   "source": [
    "# let's create objects for our two teams\n",
    "team1 = rg.Robogame(\"bob\")\n",
    "team2 = rg.Robogame(\"alice\")"
   ]
  },
  {
   "cell_type": "code",
   "execution_count": 26,
   "metadata": {},
   "outputs": [
    {
     "name": "stdout",
     "output_type": "stream",
     "text": [
      "{'Error': 'Game already started'}\n",
      "{'Error': \"Team secret doesn't match any team\"}\n"
     ]
    }
   ],
   "source": [
    "# tell the server we're ready\n",
    "print(team1.setReady())\n",
    "print(team2.setReady())"
   ]
  },
  {
   "cell_type": "code",
   "execution_count": 27,
   "metadata": {},
   "outputs": [
    {
     "name": "stdout",
     "output_type": "stream",
     "text": [
      "Let's go!\n"
     ]
    }
   ],
   "source": [
    "# wait for the match to launch\n",
    "while(True):\n",
    "    gametime = team1.getGameTime()\n",
    "    timetogo = gametime['gamestarttime_secs'] - gametime['servertime_secs']\n",
    "    if ('Error' in gametime):\n",
    "        print(\"Error\"+str(gametime))\n",
    "        break\n",
    "    if (timetogo <= 0):\n",
    "        print(\"Let's go!\")\n",
    "        break\n",
    "    \n",
    "    print(\"waiting to launch... game will start in \" + str(int(timetogo)))\n",
    "    time.sleep(1) # sleep 1 second at a time, wait for the game to start"
   ]
  },
  {
   "cell_type": "code",
   "execution_count": 28,
   "metadata": {},
   "outputs": [
    {
     "data": {
      "text/plain": [
       "{'Error': \"Team secret doesn't match any team\"}"
      ]
     },
     "execution_count": 28,
     "metadata": {},
     "output_type": "execute_result"
    }
   ],
   "source": [
    "# both teams initially bet 50\n",
    "omniplayerAllBets1 = {}\n",
    "omniplayerAllBets2 = {}\n",
    "\n",
    "for i in np.arange(0,100):\n",
    "    omniplayerAllBets1[int(i)] = int(50)\n",
    "    omniplayerAllBets2[int(i)] = int(50)\n",
    "    \n",
    "team1.setBets(omniplayerAllBets1)\n",
    "team2.setBets(omniplayerAllBets2)"
   ]
  },
  {
   "cell_type": "code",
   "execution_count": null,
   "metadata": {},
   "outputs": [],
   "source": [
    "# let's try to figure out some strategy for each robot based on the real data\n",
    "# this runs a dumb simulation. It basically knows the truth but it will guess a random number\n",
    "# around the truth that is proportional to the number of hints it knows about each robot\n",
    "# the more hints it gets about a robot, the closer it will guess to the truth\n",
    "#\n",
    "# the two teams have slightly different amounts of random distributions so in theory\n",
    "# team 2 will converge on the true answer faster than team 1\n",
    "\n",
    "lasthints1 = {}\n",
    "lasthints2 = {}\n",
    "\n",
    "for timeloop in np.arange(0,100):\n",
    "    # load some new hints\n",
    "    team1.getHints()\n",
    "    team2.getHints()\n",
    "    \n",
    "    omniplayerAllBets1 = {}\n",
    "    omniplayerAllBets2 = {}\n",
    "\n",
    "    x = team1.getRobotInfo()\n",
    "    t = team1.getGameTime()\n",
    "    if 'curtime' in t:\n",
    "        if (t['curtime'] >= 100):\n",
    "            break\n",
    "    else:\n",
    "        break\n",
    "      \n",
    "    # grab the robots that we can guess for\n",
    "    \n",
    "    \n",
    "    # lets check all the hints we've seen so far\n",
    "    t1hints = team1.getAllPredictionHints()\n",
    "    t2hints = team2.getAllPredictionHints()\n",
    "\n",
    "    hints1 = {}\n",
    "    hints2 = {}\n",
    "    \n",
    "    # how many hints do we have per robot?\n",
    "    for t1 in t1hints:\n",
    "        id1 = int(t1['id'])\n",
    "        if (id1 not in hints1):\n",
    "            hints1[id1] = 1\n",
    "        else:\n",
    "            hints1[id1] = hints1[id1] + 1\n",
    "        \n",
    "    \n",
    "    \n",
    "    for t1 in t2hints:\n",
    "        id1 = int(t1['id'])\n",
    "        if (id1 not in hints2):\n",
    "            hints2[id1] = 1\n",
    "        else:\n",
    "            hints2[id1] = hints2[id1] + 1\n",
    "    \n",
    "    #print(hints1,hints2)\n",
    "    \n",
    "    for row in robotdata[robotdata.id < 100].sort_values('id').iterrows():\n",
    "\n",
    "        row = row[1]                # get the row data\n",
    "        expires = int(row.expires)  # figure out when the robot expires\n",
    "        col = \"t_\"+str(expires)     # look up the value at that time\n",
    "        valAtExp = row[col]         # this is the true value\n",
    "        \n",
    "        if (expires <= t['curtime']):\n",
    "            continue                   # skip expired robots\n",
    "\n",
    "        rowid = int(row.id)\n",
    "\n",
    "        if (rowid in hints1):\n",
    "            if ((rowid not in lasthints1) or (hints1[rowid] != lasthints1[rowid])):\n",
    "                # we have some evidence for this robot\n",
    "                # pick a random number around the true answer (normal distrib with mean of valAtExp, stdev of 20)\n",
    "                val = int(np.random.normal(valAtExp,20/hints1[rowid]))\n",
    "                if (val <  0):\n",
    "                    val = 0\n",
    "                if (val > 100):\n",
    "                    val = 100\n",
    "                #print(row.id)\n",
    "                omniplayerAllBets1[rowid] = val\n",
    "\n",
    "        if (rowid in hints2):\n",
    "             if ((rowid not in lasthints2) or (hints2[rowid] != lasthints2[rowid])):\n",
    "                # pick a random number around the true answer (normal distrib with mean of valAtExp, stdev of 10)\n",
    "                # this will be for team2 which are going to be slightly more accurate\n",
    "                val = int(np.random.normal(valAtExp,10/hints2[rowid]))\n",
    "                if (val <  0):\n",
    "                    val = 0\n",
    "                if (val > 100):\n",
    "                    val = 100\n",
    "\n",
    "                omniplayerAllBets2[rowid] = val\n",
    "\n",
    "    lasthints1 = hints1\n",
    "    lasthints2 = hints2\n",
    "    print(\"team 1 bets\",omniplayerAllBets1)\n",
    "    print(\"team 2 bets\",omniplayerAllBets2)\n",
    "    team1.setBets(omniplayerAllBets1)\n",
    "    team2.setBets(omniplayerAllBets2)\n",
    "    print(\"time: \",t['curtime'])\n",
    "    print(x[['winner','Productivity']].groupby(['winner']).sum())\n",
    "\n",
    "    time.sleep(6)"
   ]
  },
  {
   "cell_type": "code",
   "execution_count": null,
   "metadata": {},
   "outputs": [],
   "source": [
    "# that's more or less it... you can modify the guesses us different strategies\n",
    "# for example, you can also consider the network"
   ]
  },
  {
   "cell_type": "code",
   "execution_count": null,
   "metadata": {},
   "outputs": [],
   "source": [
    "omniplayerAllBets2"
   ]
  },
  {
   "cell_type": "code",
   "execution_count": null,
   "metadata": {},
   "outputs": [],
   "source": []
  }
 ],
 "metadata": {
  "kernelspec": {
   "display_name": "Python 3 (ipykernel)",
   "language": "python",
   "name": "python3"
  },
  "language_info": {
   "codemirror_mode": {
    "name": "ipython",
    "version": 3
   },
   "file_extension": ".py",
   "mimetype": "text/x-python",
   "name": "python",
   "nbconvert_exporter": "python",
   "pygments_lexer": "ipython3",
   "version": "3.9.6"
  }
 },
 "nbformat": 4,
 "nbformat_minor": 4
}
